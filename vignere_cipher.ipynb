{
  "nbformat": 4,
  "nbformat_minor": 0,
  "metadata": {
    "colab": {
      "name": "vignere cipher.ipynb",
      "provenance": [],
      "collapsed_sections": []
    },
    "kernelspec": {
      "name": "python3",
      "display_name": "Python 3"
    }
  },
  "cells": [
    {
      "cell_type": "code",
      "metadata": {
        "id": "M8tN_M_t1W5v"
      },
      "source": [
        "def number_value(text):\n",
        "  tempo=[]\n",
        "  alpha=\"abcdefghijklmnopqrstuvwxyz\"\n",
        "  alphacap=\"ABCDEFGHIJKLMNOPQRSTUVWXYZ\"\n",
        "  for i in range(len(text)):\n",
        "    value=alpha.find(text[i])\n",
        "    if value == -1:\n",
        "      value=alphacap.find(text[i])\n",
        "    tempo.append(value)\n",
        "  return tempo\n",
        "def alpha_value(number):\n",
        "  alpha=\"abcdefghijklmnopqrstuvwxyz\"\n",
        "  return alpha[number]"
      ],
      "execution_count": null,
      "outputs": []
    },
    {
      "cell_type": "code",
      "metadata": {
        "id": "WITvzuzj1iT_"
      },
      "source": [
        "def cipher_encryption(text,key):\n",
        "  tempo1=[]\n",
        "  text_numbered=number_value(text)\n",
        "  key_numbered=number_value(key)\n",
        "  for i in range(len(text_numbered)):\n",
        "    if text_numbered[i]==-1:\n",
        "        tempo1.append(' ')\n",
        "    else:\n",
        "        calc=((text_numbered[i]+key_numbered[i])%26)\n",
        "        alpha=alpha_value(calc)\n",
        "        tempo1.append(alpha)\n",
        "  return tempo1"
      ],
      "execution_count": null,
      "outputs": []
    },
    {
      "cell_type": "code",
      "metadata": {
        "id": "pnztW_jg--6x"
      },
      "source": [
        "def cipher_decryption(text,key):\n",
        "  tempo2=[]\n",
        "  text_numbered=number_value(text)\n",
        "  key_numbered=number_value(key)\n",
        "  for i in range(len(text_numbered)):\n",
        "    if text_numbered[i]==-1:\n",
        "      tempo2.append(' ')\n",
        "    else:\n",
        "      calc=((text_numbered[i]-key_numbered[i])%26)\n",
        "      alpha=alpha_value(calc)\n",
        "      tempo2.append(alpha)\n",
        "  return tempo2"
      ],
      "execution_count": null,
      "outputs": []
    },
    {
      "cell_type": "code",
      "metadata": {
        "id": "cbr2up_zAU-h",
        "colab": {
          "base_uri": "https://localhost:8080/",
          "height": 193
        },
        "outputId": "b3973322-2f2a-46c1-abbc-84626a95e02f"
      },
      "source": [
        "print(\"This is Vignere Cipher Encrtption and Decryption \\nEnter \\n1. For Encryption \\n2. For Decryption\")\n",
        "choice=int(input())\n",
        "if choice == 1:\n",
        "  plain_text=input(\"plain text and Enter Key\\n\")\n",
        "  key=input()\n",
        "  if len(key)<len(plain_text):\n",
        "    size=len(plain_text)-len(key)\n",
        "    for i in range(size):\n",
        "        key += (key[i])\n",
        "  cipher_text=cipher_encryption(plain_text,key)\n",
        "  out=''\n",
        "  for i in cipher_text:\n",
        "    out+=str(i)\n",
        "  print(out)   \n",
        "\n",
        "elif choice == 2:\n",
        "  cipher_text=input(\"cipher text and Enter Key\\n\")\n",
        "  key=input()\n",
        "  if len(key)<len(cipher_text):\n",
        "    size=len(cipher_text)-len(key)\n",
        "    for i in range(size):\n",
        "      key += (key[i])\n",
        "  plain_text=cipher_decryption(cipher_text,key)\n",
        "  out1=''\n",
        "  for i in plain_text:\n",
        "    out1 +=str(i)\n",
        "  print(out1) \n",
        "  \n",
        "else: print(\"invalid\")"
      ],
      "execution_count": null,
      "outputs": [
        {
          "output_type": "stream",
          "text": [
            "This is Vignere Cipher Encrtption and Decryption \n",
            "Enter \n",
            "1. For Encryption \n",
            "2. For Decryption\n",
            "1\n",
            "plain text and Enter Key\n",
            "Education can be thought of as the transmission of the values and accumulated knowledge of a society. In this sense, it is equivalent to what social scientists term socialization or enculturation. Children—whether conceived among New Guinea tribespeople, the Renaissance Florentines, or the middle classes of Manhattan—are born without culture. Education is designed to guide them in learning a culture, molding their behaviour in the ways of adulthood, and directing them toward their eventual role in society. In the most primitive cultures, there is often little formal learning—little of what one would ordinarily call school or classes or teachers. Instead, the entire environment and all activities are frequently viewed as school and classes, and many or all adults act as teachers. \n",
            "bin\n",
            "flhdigjwa kno of giwhhpg ws if buf gsiatuvtavpv pn upr dnmcrt nol bkpvuhmigfl lvbxtreor ws i twpjmgz  jv upvt ffvff  jb ja fyhjdnmmau gp jiig abdqnm fdqrobvtbf brsu twpjiyjhnuqbo bs rokhmbhsigjwa  piqyezro jimgime kbokrjdre nnwah afe hcvomn bejjrtxrpxyf  upr zroivtanokr nypzrobvomf  bs gim nqqetr kybaffa pn niaiiguia ief opza evupbvb dcyucef  flhdigjwa qf lrtqtomq bb ohjlr bufu jv mmnsvvoo b pvtgvzr  zptqjvt bufqe jriiijwhs vo gim xilt bg necyupbpl  iae qjzrdbvoo uprn gpensl uprjz fdrobhbt swyf vo fpkvfbl  vo gim nwfu csqzjbvwm dcyucefa  bufzr qf wsuma tvubyf spzzbt mmnsvvoo mqgutr ws eubb pvr ebvtq weeqabzvmg diym fdpbpt pz dtntart bs gfipimet  jvfumne  upr mauqef rodvswanmau nol bty ipuqijbvfa bzr nefyhfvgmg wqrxmq if apiwbm nol dtntart  bvq unog pz bty iqvtgt ndb ba umndprsa  \n"
          ],
          "name": "stdout"
        }
      ]
    }
  ]
}