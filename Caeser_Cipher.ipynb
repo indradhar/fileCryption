{
  "nbformat": 4,
  "nbformat_minor": 0,
  "metadata": {
    "colab": {
      "name": "Caeser Cipher.ipynb",
      "provenance": []
    },
    "kernelspec": {
      "name": "python3",
      "display_name": "Python 3"
    }
  },
  "cells": [
    {
      "cell_type": "code",
      "metadata": {
        "id": "AyEurhToclUh"
      },
      "source": [
        "def number_value(text):\n",
        "  tempo=[]\n",
        "  alpha=\"abcdefghijklmnopqrstuvwxyz\"\n",
        "  alphacap=\"ABCDEFGHIJKLMNOPQRSTUVWXYZ\"\n",
        "  for i in range(len(text)):\n",
        "    value=alpha.find(text[i])\n",
        "    if value == -1:\n",
        "      value=alphacap.find(text[i])\n",
        "    tempo.append(value)\n",
        "  return tempo\n",
        "\n",
        "def alpha_value(number):\n",
        "  alpha=\"abcdefghijklmnopqrstuvwxyz\"\n",
        "  return alpha[number]"
      ],
      "execution_count": null,
      "outputs": []
    },
    {
      "cell_type": "code",
      "metadata": {
        "id": "leDuBYVkXZPv"
      },
      "source": [
        "def cipher_encryption(text,key):\n",
        "  tempo1=[]\n",
        "  numbered=number_value(text)\n",
        "  for i in range(len(numbered)):\n",
        "    if numbered[i]==-1:\n",
        "        tempo1.append(' ')\n",
        "    else:\n",
        "        calc=((numbered[i]+key)%26)\n",
        "        alpha=alpha_value(calc)\n",
        "        tempo1.append(alpha)\n",
        "  return tempo1\n"
      ],
      "execution_count": null,
      "outputs": []
    },
    {
      "cell_type": "code",
      "metadata": {
        "id": "_PtOC0OUYTDo"
      },
      "source": [
        "def cipher_decryption(text,key):\n",
        "  tempo2=[]\n",
        "  numbered=number_value(text)\n",
        "  for i in range(len(numbered)):\n",
        "    if numbered[i]==-1:\n",
        "      tempo2.append(' ')\n",
        "    else:\n",
        "      calc=((numbered[i]-key)%26)\n",
        "      alpha=alpha_value(calc)\n",
        "      tempo2.append(alpha)\n",
        "  return tempo2"
      ],
      "execution_count": null,
      "outputs": []
    },
    {
      "cell_type": "code",
      "metadata": {
        "id": "lt4zV7FlV820",
        "colab": {
          "base_uri": "https://localhost:8080/",
          "height": 173
        },
        "outputId": "12c271e6-673e-4c05-e622-489ed91fc055"
      },
      "source": [
        "print(\"This is Caeser Cipher Encrtption and Decryption \\nEnter \\n1. For Encryption \\n2. For Decryption\")\n",
        "choice=int(input())\n",
        "if choice == 1:\n",
        "  plain_text=input(\"plain text and Enter Key\\n\")\n",
        "  key=int(input())\n",
        "  cipher_text=cipher_encryption(plain_text,key)\n",
        "  out=''\n",
        "  for i in cipher_text:\n",
        "    out+=str(i)\n",
        "  print(out)   \n",
        "elif choice == 2:\n",
        "  cipher_text=input(\"cipher text and Enter Key\\n\")\n",
        "  key=int(input())\n",
        "  plain_text=cipher_decryption(cipher_text,key)\n",
        "  out1=''\n",
        "  for i in plain_text:\n",
        "    out1 +=str(i)\n",
        "  print(out1) \n",
        "  \n",
        "else: print(\"invalid\")"
      ],
      "execution_count": null,
      "outputs": [
        {
          "output_type": "stream",
          "text": [
            "This is Caeser Cipher Encrtption and Decryption \n",
            "Enter \n",
            "1. For Encryption \n",
            "2. For Decryption\n",
            "1\n",
            "plain text and Enter Key\n",
            "BML munjal University\n",
            "7\n",
            "its tbuqhs bupclyzpaf\n"
          ],
          "name": "stdout"
        }
      ]
    }
  ]
}